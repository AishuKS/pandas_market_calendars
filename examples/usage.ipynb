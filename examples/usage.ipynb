{
 "cells": [
  {
   "cell_type": "markdown",
   "metadata": {},
   "source": [
    "# Examples"
   ]
  },
  {
   "cell_type": "code",
   "execution_count": 2,
   "metadata": {},
   "outputs": [],
   "source": [
    "import sys\n",
    "sys.path.append(\"../\") \n",
    "from datetime import time\n",
    "import pandas as pd\n",
    "import pandas_market_calendars as mcal"
   ]
  },
  {
   "cell_type": "markdown",
   "metadata": {},
   "source": [
    "## Setup new exchange calendar"
   ]
  },
  {
   "cell_type": "code",
   "execution_count": 3,
   "metadata": {},
   "outputs": [],
   "source": [
    "nyse = mcal.get_calendar('NYSE')"
   ]
  },
  {
   "cell_type": "markdown",
   "metadata": {},
   "source": [
    "Get the time zone"
   ]
  },
  {
   "cell_type": "code",
   "execution_count": 4,
   "metadata": {},
   "outputs": [
    {
     "data": {
      "text/plain": [
       "'America/New_York'"
      ]
     },
     "execution_count": 4,
     "metadata": {},
     "output_type": "execute_result"
    }
   ],
   "source": [
    "nyse.tz.zone"
   ]
  },
  {
   "cell_type": "markdown",
   "metadata": {},
   "source": [
    "Get the AbstractHolidayCalendar object"
   ]
  },
  {
   "cell_type": "code",
   "execution_count": 5,
   "metadata": {},
   "outputs": [
    {
     "data": {
      "text/plain": [
       "(numpy.datetime64('2200-05-26'),\n",
       " numpy.datetime64('2200-07-04'),\n",
       " numpy.datetime64('2200-09-01'),\n",
       " numpy.datetime64('2200-11-27'),\n",
       " numpy.datetime64('2200-12-25'))"
      ]
     },
     "execution_count": 5,
     "metadata": {},
     "output_type": "execute_result"
    }
   ],
   "source": [
    "holidays = nyse.holidays()\n",
    "holidays.holidays[-5:]"
   ]
  },
  {
   "cell_type": "markdown",
   "metadata": {},
   "source": [
    "## Exchange open valid business days"
   ]
  },
  {
   "cell_type": "markdown",
   "metadata": {},
   "source": [
    "Get the valid open exchange business dates between a start and end date.\n",
    "Note that Dec 26 (Christmas), Jan 2 (New Years) and all weekends are missing"
   ]
  },
  {
   "cell_type": "code",
   "execution_count": 6,
   "metadata": {},
   "outputs": [
    {
     "data": {
      "text/plain": [
       "DatetimeIndex(['2016-12-20 00:00:00+00:00', '2016-12-21 00:00:00+00:00',\n",
       "               '2016-12-22 00:00:00+00:00', '2016-12-23 00:00:00+00:00',\n",
       "               '2016-12-27 00:00:00+00:00', '2016-12-28 00:00:00+00:00',\n",
       "               '2016-12-29 00:00:00+00:00', '2016-12-30 00:00:00+00:00',\n",
       "               '2017-01-03 00:00:00+00:00', '2017-01-04 00:00:00+00:00',\n",
       "               '2017-01-05 00:00:00+00:00', '2017-01-06 00:00:00+00:00',\n",
       "               '2017-01-09 00:00:00+00:00', '2017-01-10 00:00:00+00:00'],\n",
       "              dtype='datetime64[ns, UTC]', freq='C')"
      ]
     },
     "execution_count": 6,
     "metadata": {},
     "output_type": "execute_result"
    }
   ],
   "source": [
    "nyse.valid_days(start_date='2016-12-20', end_date='2017-01-10')"
   ]
  },
  {
   "cell_type": "markdown",
   "metadata": {},
   "source": [
    "## Schedule"
   ]
  },
  {
   "cell_type": "code",
   "execution_count": 7,
   "metadata": {},
   "outputs": [
    {
     "data": {
      "text/html": [
       "<div>\n",
       "<style scoped>\n",
       "    .dataframe tbody tr th:only-of-type {\n",
       "        vertical-align: middle;\n",
       "    }\n",
       "\n",
       "    .dataframe tbody tr th {\n",
       "        vertical-align: top;\n",
       "    }\n",
       "\n",
       "    .dataframe thead th {\n",
       "        text-align: right;\n",
       "    }\n",
       "</style>\n",
       "<table border=\"1\" class=\"dataframe\">\n",
       "  <thead>\n",
       "    <tr style=\"text-align: right;\">\n",
       "      <th></th>\n",
       "      <th>market_open</th>\n",
       "      <th>market_close</th>\n",
       "    </tr>\n",
       "  </thead>\n",
       "  <tbody>\n",
       "    <tr>\n",
       "      <th>2016-12-30</th>\n",
       "      <td>2016-12-30 14:30:00+00:00</td>\n",
       "      <td>2016-12-30 21:00:00+00:00</td>\n",
       "    </tr>\n",
       "    <tr>\n",
       "      <th>2017-01-03</th>\n",
       "      <td>2017-01-03 14:30:00+00:00</td>\n",
       "      <td>2017-01-03 21:00:00+00:00</td>\n",
       "    </tr>\n",
       "    <tr>\n",
       "      <th>2017-01-04</th>\n",
       "      <td>2017-01-04 14:30:00+00:00</td>\n",
       "      <td>2017-01-04 21:00:00+00:00</td>\n",
       "    </tr>\n",
       "    <tr>\n",
       "      <th>2017-01-05</th>\n",
       "      <td>2017-01-05 14:30:00+00:00</td>\n",
       "      <td>2017-01-05 21:00:00+00:00</td>\n",
       "    </tr>\n",
       "    <tr>\n",
       "      <th>2017-01-06</th>\n",
       "      <td>2017-01-06 14:30:00+00:00</td>\n",
       "      <td>2017-01-06 21:00:00+00:00</td>\n",
       "    </tr>\n",
       "    <tr>\n",
       "      <th>2017-01-09</th>\n",
       "      <td>2017-01-09 14:30:00+00:00</td>\n",
       "      <td>2017-01-09 21:00:00+00:00</td>\n",
       "    </tr>\n",
       "    <tr>\n",
       "      <th>2017-01-10</th>\n",
       "      <td>2017-01-10 14:30:00+00:00</td>\n",
       "      <td>2017-01-10 21:00:00+00:00</td>\n",
       "    </tr>\n",
       "  </tbody>\n",
       "</table>\n",
       "</div>"
      ],
      "text/plain": [
       "                         market_open              market_close\n",
       "2016-12-30 2016-12-30 14:30:00+00:00 2016-12-30 21:00:00+00:00\n",
       "2017-01-03 2017-01-03 14:30:00+00:00 2017-01-03 21:00:00+00:00\n",
       "2017-01-04 2017-01-04 14:30:00+00:00 2017-01-04 21:00:00+00:00\n",
       "2017-01-05 2017-01-05 14:30:00+00:00 2017-01-05 21:00:00+00:00\n",
       "2017-01-06 2017-01-06 14:30:00+00:00 2017-01-06 21:00:00+00:00\n",
       "2017-01-09 2017-01-09 14:30:00+00:00 2017-01-09 21:00:00+00:00\n",
       "2017-01-10 2017-01-10 14:30:00+00:00 2017-01-10 21:00:00+00:00"
      ]
     },
     "execution_count": 7,
     "metadata": {},
     "output_type": "execute_result"
    }
   ],
   "source": [
    "schedule = nyse.schedule(start_date='2016-12-30', end_date='2017-01-10')\n",
    "schedule"
   ]
  },
  {
   "cell_type": "code",
   "execution_count": 8,
   "metadata": {},
   "outputs": [
    {
     "data": {
      "text/html": [
       "<div>\n",
       "<style scoped>\n",
       "    .dataframe tbody tr th:only-of-type {\n",
       "        vertical-align: middle;\n",
       "    }\n",
       "\n",
       "    .dataframe tbody tr th {\n",
       "        vertical-align: top;\n",
       "    }\n",
       "\n",
       "    .dataframe thead th {\n",
       "        text-align: right;\n",
       "    }\n",
       "</style>\n",
       "<table border=\"1\" class=\"dataframe\">\n",
       "  <thead>\n",
       "    <tr style=\"text-align: right;\">\n",
       "      <th></th>\n",
       "      <th>market_open</th>\n",
       "      <th>market_close</th>\n",
       "    </tr>\n",
       "  </thead>\n",
       "  <tbody>\n",
       "    <tr>\n",
       "      <th>2012-07-02</th>\n",
       "      <td>2012-07-02 13:30:00+00:00</td>\n",
       "      <td>2012-07-02 20:00:00+00:00</td>\n",
       "    </tr>\n",
       "    <tr>\n",
       "      <th>2012-07-03</th>\n",
       "      <td>2012-07-03 13:30:00+00:00</td>\n",
       "      <td>2012-07-03 17:00:00+00:00</td>\n",
       "    </tr>\n",
       "    <tr>\n",
       "      <th>2012-07-05</th>\n",
       "      <td>2012-07-05 13:30:00+00:00</td>\n",
       "      <td>2012-07-05 20:00:00+00:00</td>\n",
       "    </tr>\n",
       "    <tr>\n",
       "      <th>2012-07-06</th>\n",
       "      <td>2012-07-06 13:30:00+00:00</td>\n",
       "      <td>2012-07-06 20:00:00+00:00</td>\n",
       "    </tr>\n",
       "    <tr>\n",
       "      <th>2012-07-09</th>\n",
       "      <td>2012-07-09 13:30:00+00:00</td>\n",
       "      <td>2012-07-09 20:00:00+00:00</td>\n",
       "    </tr>\n",
       "    <tr>\n",
       "      <th>2012-07-10</th>\n",
       "      <td>2012-07-10 13:30:00+00:00</td>\n",
       "      <td>2012-07-10 20:00:00+00:00</td>\n",
       "    </tr>\n",
       "  </tbody>\n",
       "</table>\n",
       "</div>"
      ],
      "text/plain": [
       "                         market_open              market_close\n",
       "2012-07-02 2012-07-02 13:30:00+00:00 2012-07-02 20:00:00+00:00\n",
       "2012-07-03 2012-07-03 13:30:00+00:00 2012-07-03 17:00:00+00:00\n",
       "2012-07-05 2012-07-05 13:30:00+00:00 2012-07-05 20:00:00+00:00\n",
       "2012-07-06 2012-07-06 13:30:00+00:00 2012-07-06 20:00:00+00:00\n",
       "2012-07-09 2012-07-09 13:30:00+00:00 2012-07-09 20:00:00+00:00\n",
       "2012-07-10 2012-07-10 13:30:00+00:00 2012-07-10 20:00:00+00:00"
      ]
     },
     "execution_count": 8,
     "metadata": {},
     "output_type": "execute_result"
    }
   ],
   "source": [
    "# with early closes\n",
    "early = nyse.schedule(start_date='2012-07-01', end_date='2012-07-10')\n",
    "early"
   ]
  },
  {
   "cell_type": "markdown",
   "metadata": {},
   "source": [
    "## Get early closes"
   ]
  },
  {
   "cell_type": "code",
   "execution_count": 9,
   "metadata": {},
   "outputs": [
    {
     "data": {
      "text/html": [
       "<div>\n",
       "<style scoped>\n",
       "    .dataframe tbody tr th:only-of-type {\n",
       "        vertical-align: middle;\n",
       "    }\n",
       "\n",
       "    .dataframe tbody tr th {\n",
       "        vertical-align: top;\n",
       "    }\n",
       "\n",
       "    .dataframe thead th {\n",
       "        text-align: right;\n",
       "    }\n",
       "</style>\n",
       "<table border=\"1\" class=\"dataframe\">\n",
       "  <thead>\n",
       "    <tr style=\"text-align: right;\">\n",
       "      <th></th>\n",
       "      <th>market_open</th>\n",
       "      <th>market_close</th>\n",
       "    </tr>\n",
       "  </thead>\n",
       "  <tbody>\n",
       "    <tr>\n",
       "      <th>2012-07-03</th>\n",
       "      <td>2012-07-03 13:30:00+00:00</td>\n",
       "      <td>2012-07-03 17:00:00+00:00</td>\n",
       "    </tr>\n",
       "  </tbody>\n",
       "</table>\n",
       "</div>"
      ],
      "text/plain": [
       "                         market_open              market_close\n",
       "2012-07-03 2012-07-03 13:30:00+00:00 2012-07-03 17:00:00+00:00"
      ]
     },
     "execution_count": 9,
     "metadata": {},
     "output_type": "execute_result"
    }
   ],
   "source": [
    "nyse.early_closes(schedule=early)"
   ]
  },
  {
   "cell_type": "markdown",
   "metadata": {},
   "source": [
    "## Open at time\n",
    "Test to see if a given timestamp is during market open hours"
   ]
  },
  {
   "cell_type": "code",
   "execution_count": 10,
   "metadata": {},
   "outputs": [
    {
     "data": {
      "text/plain": [
       "True"
      ]
     },
     "execution_count": 10,
     "metadata": {},
     "output_type": "execute_result"
    }
   ],
   "source": [
    "nyse.open_at_time(early, pd.Timestamp('2012-07-03 12:00', tz='America/New_York'))"
   ]
  },
  {
   "cell_type": "code",
   "execution_count": 11,
   "metadata": {},
   "outputs": [
    {
     "data": {
      "text/plain": [
       "False"
      ]
     },
     "execution_count": 11,
     "metadata": {},
     "output_type": "execute_result"
    }
   ],
   "source": [
    "nyse.open_at_time(early, pd.Timestamp('2012-07-03 16:00', tz='America/New_York'))"
   ]
  },
  {
   "cell_type": "markdown",
   "metadata": {},
   "source": [
    "## Customizations"
   ]
  },
  {
   "cell_type": "markdown",
   "metadata": {},
   "source": [
    "Customizations to the calendars can be done in three ways:\n",
    "* At initialization\n",
    "* After initialization\n",
    "* By inheriting from a MarketCalendar class."
   ]
  },
  {
   "cell_type": "markdown",
   "metadata": {},
   "source": [
    "### At initialization\n",
    "The simplest way to customize the market times of a calendar is by passing datetime.time objects to the constructor, which will modify the start and/or end of *regular trading hours*."
   ]
  },
  {
   "cell_type": "code",
   "execution_count": 13,
   "metadata": {
    "tags": []
   },
   "outputs": [
    {
     "name": "stdout",
     "output_type": "stream",
     "text": [
      "open, close: 10:00:00, 14:30:00\n"
     ]
    }
   ],
   "source": [
    "cal = mcal.get_calendar('NYSE', open_time=time(10, 0), close_time=time(14, 30))\n",
    "print('open, close: %s, %s' % (cal.open_time, cal.close_time))"
   ]
  },
  {
   "cell_type": "markdown",
   "metadata": {},
   "source": [
    "### After initialization"
   ]
  },
  {
   "cell_type": "code",
   "execution_count": 38,
   "metadata": {},
   "outputs": [
    {
     "name": "stdout",
     "output_type": "stream",
     "text": [
      "open, close: 10:30:00, 14:30:00\n"
     ]
    }
   ],
   "source": [
    "cal.change_time(\"market_open\", time(10,30))\n",
    "print('open, close: %s, %s' % (cal.open_time, cal.close_time))"
   ]
  },
  {
   "cell_type": "markdown",
   "metadata": {},
   "source": [
    "The most important concept for advanced customizations are: market times.\\\n",
    "Market times are like moments in a trading day that are contained in the `regular_market_times` attribute.\\\n",
    "For instance, NYSE's regular trading hours are marked by \"market_open\" and \"market_close\", but NYSE also has extended hours,\\\n",
    "which are marked by \"pre\" and \"post\". You can see what information the instance has available by printing the regular_market_times attribute:"
   ]
  },
  {
   "cell_type": "code",
   "execution_count": 40,
   "metadata": {},
   "outputs": [
    {
     "name": "stdout",
     "output_type": "stream",
     "text": [
      "Our customized calendar: \n",
      " ProtectedDict(\n",
      "{'pre': ((None, datetime.time(4, 0)),),\n",
      " 'market_open': ((None, datetime.time(10, 30)),),\n",
      " 'market_close': ((None, datetime.time(14, 30)),),\n",
      " 'post': ((None, datetime.time(20, 0)),)}\n",
      ") \n",
      "\n"
     ]
    }
   ],
   "source": [
    "print(\"Our customized calendar: \\n\", cal.regular_market_times, \"\\n\")"
   ]
  },
  {
   "cell_type": "code",
   "execution_count": 60,
   "metadata": {},
   "outputs": [
    {
     "name": "stdout",
     "output_type": "stream",
     "text": [
      "The original NYSE calendar: \n",
      " ProtectedDict(\n",
      "{'pre': ((None, datetime.time(4, 0)),),\n",
      " 'market_open': ((None, datetime.time(10, 0)),\n",
      "                 ('1985-01-01', datetime.time(9, 30))),\n",
      " 'market_close': ((None, datetime.time(15, 0)),\n",
      "                  ('1952-09-29', datetime.time(15, 30)),\n",
      "                  ('1974-01-01', datetime.time(16, 0))),\n",
      " 'post': ((None, datetime.time(20, 0)),)}\n",
      ")\n"
     ]
    }
   ],
   "source": [
    "print(\"The original NYSE calendar: \\n\", nyse.regular_market_times)"
   ]
  },
  {
   "cell_type": "markdown",
   "metadata": {},
   "source": [
    "MarketCalendar instances can handle varying market_times like the market_close in the original NYSE calendar, which changed twice, once on 1952-09-29 and again on 1974-01-01.\\\n",
    "This is the format that the regular_market_times should be in, to maintain that capability:\n",
    "\n",
    "*The attribute `regular_market_times` has these requirements:*\n",
    "\n",
    "* It needs to be one dictionary\n",
    "\n",
    "* Each market_time needs one entry, the key being its name\n",
    "    * the standard open should always be called \"market_open\" and the standard close always \"market_close\".\n",
    "    * if the calendar has a break, there should always be two keys, one \"break_start\" and one \"break_end\".  \n",
    "\n",
    "* One list/tuple for each market_time\n",
    "       \n",
    "* At least one list/tuple in each market_time's list/tuple\n",
    "    * Each of these nested iterables needs at least two items: (first_date of observation, time[, offset]).\n",
    "    * The first iterable should have None as its first item, marking the start. for every iterable thereafter this should be the first date that `time` was used.\n",
    "    * Optionally (assumed to be zero, when not present), you can pass an offset for the time, which can be a positive or negative integer, representing number of days.\n",
    "    * These need to be sorted based on the date, None coming first"
   ]
  },
  {
   "cell_type": "markdown",
   "metadata": {},
   "source": [
    "Although these custom times are respected, they will be replaced by special times (e.g. early close on 2012-07-03), unless requested otherwise."
   ]
  },
  {
   "cell_type": "code",
   "execution_count": 24,
   "metadata": {},
   "outputs": [
    {
     "data": {
      "text/html": [
       "<div>\n",
       "<style scoped>\n",
       "    .dataframe tbody tr th:only-of-type {\n",
       "        vertical-align: middle;\n",
       "    }\n",
       "\n",
       "    .dataframe tbody tr th {\n",
       "        vertical-align: top;\n",
       "    }\n",
       "\n",
       "    .dataframe thead th {\n",
       "        text-align: right;\n",
       "    }\n",
       "</style>\n",
       "<table border=\"1\" class=\"dataframe\">\n",
       "  <thead>\n",
       "    <tr style=\"text-align: right;\">\n",
       "      <th></th>\n",
       "      <th>market_open</th>\n",
       "      <th>market_close</th>\n",
       "    </tr>\n",
       "  </thead>\n",
       "  <tbody>\n",
       "    <tr>\n",
       "      <th>2012-07-02</th>\n",
       "      <td>2012-07-02 14:00:00+00:00</td>\n",
       "      <td>2012-07-02 18:30:00+00:00</td>\n",
       "    </tr>\n",
       "    <tr>\n",
       "      <th>2012-07-03</th>\n",
       "      <td>2012-07-03 14:00:00+00:00</td>\n",
       "      <td>2012-07-03 17:00:00+00:00</td>\n",
       "    </tr>\n",
       "    <tr>\n",
       "      <th>2012-07-05</th>\n",
       "      <td>2012-07-05 14:00:00+00:00</td>\n",
       "      <td>2012-07-05 18:30:00+00:00</td>\n",
       "    </tr>\n",
       "  </tbody>\n",
       "</table>\n",
       "</div>"
      ],
      "text/plain": [
       "                         market_open              market_close\n",
       "2012-07-02 2012-07-02 14:00:00+00:00 2012-07-02 18:30:00+00:00\n",
       "2012-07-03 2012-07-03 14:00:00+00:00 2012-07-03 17:00:00+00:00\n",
       "2012-07-05 2012-07-05 14:00:00+00:00 2012-07-05 18:30:00+00:00"
      ]
     },
     "execution_count": 24,
     "metadata": {},
     "output_type": "execute_result"
    }
   ],
   "source": [
    "start, end = '2012-07-01', '2012-07-05'\n",
    "cal.schedule(start, end) "
   ]
  },
  {
   "cell_type": "code",
   "execution_count": 25,
   "metadata": {},
   "outputs": [
    {
     "data": {
      "text/html": [
       "<div>\n",
       "<style scoped>\n",
       "    .dataframe tbody tr th:only-of-type {\n",
       "        vertical-align: middle;\n",
       "    }\n",
       "\n",
       "    .dataframe tbody tr th {\n",
       "        vertical-align: top;\n",
       "    }\n",
       "\n",
       "    .dataframe thead th {\n",
       "        text-align: right;\n",
       "    }\n",
       "</style>\n",
       "<table border=\"1\" class=\"dataframe\">\n",
       "  <thead>\n",
       "    <tr style=\"text-align: right;\">\n",
       "      <th></th>\n",
       "      <th>market_open</th>\n",
       "      <th>market_close</th>\n",
       "    </tr>\n",
       "  </thead>\n",
       "  <tbody>\n",
       "    <tr>\n",
       "      <th>2012-07-02</th>\n",
       "      <td>2012-07-02 14:00:00+00:00</td>\n",
       "      <td>2012-07-02 18:30:00+00:00</td>\n",
       "    </tr>\n",
       "    <tr>\n",
       "      <th>2012-07-03</th>\n",
       "      <td>2012-07-03 14:00:00+00:00</td>\n",
       "      <td>2012-07-03 18:30:00+00:00</td>\n",
       "    </tr>\n",
       "    <tr>\n",
       "      <th>2012-07-05</th>\n",
       "      <td>2012-07-05 14:00:00+00:00</td>\n",
       "      <td>2012-07-05 18:30:00+00:00</td>\n",
       "    </tr>\n",
       "  </tbody>\n",
       "</table>\n",
       "</div>"
      ],
      "text/plain": [
       "                         market_open              market_close\n",
       "2012-07-02 2012-07-02 14:00:00+00:00 2012-07-02 18:30:00+00:00\n",
       "2012-07-03 2012-07-03 14:00:00+00:00 2012-07-03 18:30:00+00:00\n",
       "2012-07-05 2012-07-05 14:00:00+00:00 2012-07-05 18:30:00+00:00"
      ]
     },
     "execution_count": 25,
     "metadata": {},
     "output_type": "execute_result"
    }
   ],
   "source": [
    "cal.schedule(start, end, force_special_times= False)"
   ]
  },
  {
   "cell_type": "markdown",
   "metadata": {},
   "source": [
    "# Helpers"
   ]
  },
  {
   "cell_type": "markdown",
   "metadata": {},
   "source": [
    "## Date Range\n",
    "This function will take a schedule DataFrame and return a DatetimeIndex with all timestamps at the frequency given\n",
    "for all of the exchange open dates and times."
   ]
  },
  {
   "cell_type": "code",
   "execution_count": 12,
   "metadata": {},
   "outputs": [
    {
     "data": {
      "text/plain": [
       "DatetimeIndex(['2012-07-02 20:00:00+00:00', '2012-07-03 17:00:00+00:00',\n",
       "               '2012-07-05 20:00:00+00:00', '2012-07-06 20:00:00+00:00',\n",
       "               '2012-07-09 20:00:00+00:00', '2012-07-10 20:00:00+00:00'],\n",
       "              dtype='datetime64[ns, UTC]', freq=None)"
      ]
     },
     "execution_count": 12,
     "metadata": {},
     "output_type": "execute_result"
    }
   ],
   "source": [
    "mcal.date_range(early, frequency='1D')"
   ]
  },
  {
   "cell_type": "code",
   "execution_count": 13,
   "metadata": {},
   "outputs": [
    {
     "data": {
      "text/plain": [
       "DatetimeIndex(['2012-07-02 14:30:00+00:00', '2012-07-02 15:30:00+00:00',\n",
       "               '2012-07-02 16:30:00+00:00', '2012-07-02 17:30:00+00:00',\n",
       "               '2012-07-02 18:30:00+00:00', '2012-07-02 19:30:00+00:00',\n",
       "               '2012-07-02 20:00:00+00:00', '2012-07-03 14:30:00+00:00',\n",
       "               '2012-07-03 15:30:00+00:00', '2012-07-03 16:30:00+00:00',\n",
       "               '2012-07-03 17:00:00+00:00', '2012-07-05 14:30:00+00:00',\n",
       "               '2012-07-05 15:30:00+00:00', '2012-07-05 16:30:00+00:00',\n",
       "               '2012-07-05 17:30:00+00:00', '2012-07-05 18:30:00+00:00',\n",
       "               '2012-07-05 19:30:00+00:00', '2012-07-05 20:00:00+00:00',\n",
       "               '2012-07-06 14:30:00+00:00', '2012-07-06 15:30:00+00:00',\n",
       "               '2012-07-06 16:30:00+00:00', '2012-07-06 17:30:00+00:00',\n",
       "               '2012-07-06 18:30:00+00:00', '2012-07-06 19:30:00+00:00',\n",
       "               '2012-07-06 20:00:00+00:00', '2012-07-09 14:30:00+00:00',\n",
       "               '2012-07-09 15:30:00+00:00', '2012-07-09 16:30:00+00:00',\n",
       "               '2012-07-09 17:30:00+00:00', '2012-07-09 18:30:00+00:00',\n",
       "               '2012-07-09 19:30:00+00:00', '2012-07-09 20:00:00+00:00',\n",
       "               '2012-07-10 14:30:00+00:00', '2012-07-10 15:30:00+00:00',\n",
       "               '2012-07-10 16:30:00+00:00', '2012-07-10 17:30:00+00:00',\n",
       "               '2012-07-10 18:30:00+00:00', '2012-07-10 19:30:00+00:00',\n",
       "               '2012-07-10 20:00:00+00:00'],\n",
       "              dtype='datetime64[ns, UTC]', freq=None)"
      ]
     },
     "execution_count": 13,
     "metadata": {},
     "output_type": "execute_result"
    }
   ],
   "source": [
    "mcal.date_range(early, frequency='1H')"
   ]
  },
  {
   "cell_type": "markdown",
   "metadata": {},
   "source": [
    "## Custom open and close times\n",
    "If you want to override the market open and close times enter these at construction"
   ]
  },
  {
   "cell_type": "code",
   "execution_count": 14,
   "metadata": {},
   "outputs": [
    {
     "name": "stdout",
     "output_type": "stream",
     "text": [
      "open, close: 10:00:00, 14:30:00\n"
     ]
    }
   ],
   "source": [
    "cal = mcal.get_calendar('NYSE', open_time=time(10, 0), close_time=time(14, 30))\n",
    "print('open, close: %s, %s' % (cal.open_time, cal.close_time))"
   ]
  },
  {
   "cell_type": "markdown",
   "metadata": {},
   "source": [
    "## Merge schedules"
   ]
  },
  {
   "cell_type": "code",
   "execution_count": 15,
   "metadata": {},
   "outputs": [
    {
     "data": {
      "text/html": [
       "<div>\n",
       "<style scoped>\n",
       "    .dataframe tbody tr th:only-of-type {\n",
       "        vertical-align: middle;\n",
       "    }\n",
       "\n",
       "    .dataframe tbody tr th {\n",
       "        vertical-align: top;\n",
       "    }\n",
       "\n",
       "    .dataframe thead th {\n",
       "        text-align: right;\n",
       "    }\n",
       "</style>\n",
       "<table border=\"1\" class=\"dataframe\">\n",
       "  <thead>\n",
       "    <tr style=\"text-align: right;\">\n",
       "      <th></th>\n",
       "      <th>market_open</th>\n",
       "      <th>market_close</th>\n",
       "    </tr>\n",
       "  </thead>\n",
       "  <tbody>\n",
       "    <tr>\n",
       "      <th>2015-12-21</th>\n",
       "      <td>2015-12-21 14:30:00+00:00</td>\n",
       "      <td>2015-12-21 21:00:00+00:00</td>\n",
       "    </tr>\n",
       "    <tr>\n",
       "      <th>2015-12-22</th>\n",
       "      <td>2015-12-22 14:30:00+00:00</td>\n",
       "      <td>2015-12-22 21:00:00+00:00</td>\n",
       "    </tr>\n",
       "    <tr>\n",
       "      <th>2015-12-23</th>\n",
       "      <td>2015-12-23 14:30:00+00:00</td>\n",
       "      <td>2015-12-23 21:00:00+00:00</td>\n",
       "    </tr>\n",
       "    <tr>\n",
       "      <th>2015-12-24</th>\n",
       "      <td>2015-12-24 14:30:00+00:00</td>\n",
       "      <td>2015-12-24 18:00:00+00:00</td>\n",
       "    </tr>\n",
       "    <tr>\n",
       "      <th>2015-12-28</th>\n",
       "      <td>2015-12-28 14:30:00+00:00</td>\n",
       "      <td>2015-12-28 21:00:00+00:00</td>\n",
       "    </tr>\n",
       "    <tr>\n",
       "      <th>2015-12-29</th>\n",
       "      <td>2015-12-29 14:30:00+00:00</td>\n",
       "      <td>2015-12-29 21:00:00+00:00</td>\n",
       "    </tr>\n",
       "    <tr>\n",
       "      <th>2015-12-30</th>\n",
       "      <td>2015-12-30 14:30:00+00:00</td>\n",
       "      <td>2015-12-30 21:00:00+00:00</td>\n",
       "    </tr>\n",
       "    <tr>\n",
       "      <th>2015-12-31</th>\n",
       "      <td>2015-12-31 14:30:00+00:00</td>\n",
       "      <td>2015-12-31 21:00:00+00:00</td>\n",
       "    </tr>\n",
       "    <tr>\n",
       "      <th>2016-01-04</th>\n",
       "      <td>2016-01-04 14:30:00+00:00</td>\n",
       "      <td>2016-01-04 21:00:00+00:00</td>\n",
       "    </tr>\n",
       "    <tr>\n",
       "      <th>2016-01-05</th>\n",
       "      <td>2016-01-05 14:30:00+00:00</td>\n",
       "      <td>2016-01-05 21:00:00+00:00</td>\n",
       "    </tr>\n",
       "    <tr>\n",
       "      <th>2016-01-06</th>\n",
       "      <td>2016-01-06 14:30:00+00:00</td>\n",
       "      <td>2016-01-06 21:00:00+00:00</td>\n",
       "    </tr>\n",
       "  </tbody>\n",
       "</table>\n",
       "</div>"
      ],
      "text/plain": [
       "                         market_open              market_close\n",
       "2015-12-21 2015-12-21 14:30:00+00:00 2015-12-21 21:00:00+00:00\n",
       "2015-12-22 2015-12-22 14:30:00+00:00 2015-12-22 21:00:00+00:00\n",
       "2015-12-23 2015-12-23 14:30:00+00:00 2015-12-23 21:00:00+00:00\n",
       "2015-12-24 2015-12-24 14:30:00+00:00 2015-12-24 18:00:00+00:00\n",
       "2015-12-28 2015-12-28 14:30:00+00:00 2015-12-28 21:00:00+00:00\n",
       "2015-12-29 2015-12-29 14:30:00+00:00 2015-12-29 21:00:00+00:00\n",
       "2015-12-30 2015-12-30 14:30:00+00:00 2015-12-30 21:00:00+00:00\n",
       "2015-12-31 2015-12-31 14:30:00+00:00 2015-12-31 21:00:00+00:00\n",
       "2016-01-04 2016-01-04 14:30:00+00:00 2016-01-04 21:00:00+00:00\n",
       "2016-01-05 2016-01-05 14:30:00+00:00 2016-01-05 21:00:00+00:00\n",
       "2016-01-06 2016-01-06 14:30:00+00:00 2016-01-06 21:00:00+00:00"
      ]
     },
     "execution_count": 15,
     "metadata": {},
     "output_type": "execute_result"
    }
   ],
   "source": [
    "# NYSE Calendar\n",
    "nyse = mcal.get_calendar('NYSE')\n",
    "schedule_nyse = nyse.schedule('2015-12-20', '2016-01-06')\n",
    "schedule_nyse"
   ]
  },
  {
   "cell_type": "code",
   "execution_count": 16,
   "metadata": {},
   "outputs": [
    {
     "data": {
      "text/html": [
       "<div>\n",
       "<style scoped>\n",
       "    .dataframe tbody tr th:only-of-type {\n",
       "        vertical-align: middle;\n",
       "    }\n",
       "\n",
       "    .dataframe tbody tr th {\n",
       "        vertical-align: top;\n",
       "    }\n",
       "\n",
       "    .dataframe thead th {\n",
       "        text-align: right;\n",
       "    }\n",
       "</style>\n",
       "<table border=\"1\" class=\"dataframe\">\n",
       "  <thead>\n",
       "    <tr style=\"text-align: right;\">\n",
       "      <th></th>\n",
       "      <th>market_open</th>\n",
       "      <th>market_close</th>\n",
       "    </tr>\n",
       "  </thead>\n",
       "  <tbody>\n",
       "    <tr>\n",
       "      <th>2015-12-21</th>\n",
       "      <td>2015-12-21 08:00:00+00:00</td>\n",
       "      <td>2015-12-21 16:30:00+00:00</td>\n",
       "    </tr>\n",
       "    <tr>\n",
       "      <th>2015-12-22</th>\n",
       "      <td>2015-12-22 08:00:00+00:00</td>\n",
       "      <td>2015-12-22 16:30:00+00:00</td>\n",
       "    </tr>\n",
       "    <tr>\n",
       "      <th>2015-12-23</th>\n",
       "      <td>2015-12-23 08:00:00+00:00</td>\n",
       "      <td>2015-12-23 16:30:00+00:00</td>\n",
       "    </tr>\n",
       "    <tr>\n",
       "      <th>2015-12-24</th>\n",
       "      <td>2015-12-24 08:00:00+00:00</td>\n",
       "      <td>2015-12-24 12:30:00+00:00</td>\n",
       "    </tr>\n",
       "    <tr>\n",
       "      <th>2015-12-29</th>\n",
       "      <td>2015-12-29 08:00:00+00:00</td>\n",
       "      <td>2015-12-29 16:30:00+00:00</td>\n",
       "    </tr>\n",
       "    <tr>\n",
       "      <th>2015-12-30</th>\n",
       "      <td>2015-12-30 08:00:00+00:00</td>\n",
       "      <td>2015-12-30 16:30:00+00:00</td>\n",
       "    </tr>\n",
       "    <tr>\n",
       "      <th>2015-12-31</th>\n",
       "      <td>2015-12-31 08:00:00+00:00</td>\n",
       "      <td>2015-12-31 12:30:00+00:00</td>\n",
       "    </tr>\n",
       "    <tr>\n",
       "      <th>2016-01-04</th>\n",
       "      <td>2016-01-04 08:00:00+00:00</td>\n",
       "      <td>2016-01-04 16:30:00+00:00</td>\n",
       "    </tr>\n",
       "    <tr>\n",
       "      <th>2016-01-05</th>\n",
       "      <td>2016-01-05 08:00:00+00:00</td>\n",
       "      <td>2016-01-05 16:30:00+00:00</td>\n",
       "    </tr>\n",
       "    <tr>\n",
       "      <th>2016-01-06</th>\n",
       "      <td>2016-01-06 08:00:00+00:00</td>\n",
       "      <td>2016-01-06 16:30:00+00:00</td>\n",
       "    </tr>\n",
       "  </tbody>\n",
       "</table>\n",
       "</div>"
      ],
      "text/plain": [
       "                         market_open              market_close\n",
       "2015-12-21 2015-12-21 08:00:00+00:00 2015-12-21 16:30:00+00:00\n",
       "2015-12-22 2015-12-22 08:00:00+00:00 2015-12-22 16:30:00+00:00\n",
       "2015-12-23 2015-12-23 08:00:00+00:00 2015-12-23 16:30:00+00:00\n",
       "2015-12-24 2015-12-24 08:00:00+00:00 2015-12-24 12:30:00+00:00\n",
       "2015-12-29 2015-12-29 08:00:00+00:00 2015-12-29 16:30:00+00:00\n",
       "2015-12-30 2015-12-30 08:00:00+00:00 2015-12-30 16:30:00+00:00\n",
       "2015-12-31 2015-12-31 08:00:00+00:00 2015-12-31 12:30:00+00:00\n",
       "2016-01-04 2016-01-04 08:00:00+00:00 2016-01-04 16:30:00+00:00\n",
       "2016-01-05 2016-01-05 08:00:00+00:00 2016-01-05 16:30:00+00:00\n",
       "2016-01-06 2016-01-06 08:00:00+00:00 2016-01-06 16:30:00+00:00"
      ]
     },
     "execution_count": 16,
     "metadata": {},
     "output_type": "execute_result"
    }
   ],
   "source": [
    "# LSE Calendar\n",
    "lse = mcal.get_calendar('LSE')\n",
    "schedule_lse = lse.schedule('2015-12-20', '2016-01-06')\n",
    "schedule_lse"
   ]
  },
  {
   "cell_type": "markdown",
   "metadata": {},
   "source": [
    "### Inner merge\n",
    "This will find the dates where both the NYSE and LSE are open.\n",
    "Notice that Dec 28th is open for NYSE but not LSE.\n",
    "Also note that some days have a close prior to the open. This function does not currently check for that."
   ]
  },
  {
   "cell_type": "code",
   "execution_count": 17,
   "metadata": {},
   "outputs": [
    {
     "data": {
      "text/html": [
       "<div>\n",
       "<style scoped>\n",
       "    .dataframe tbody tr th:only-of-type {\n",
       "        vertical-align: middle;\n",
       "    }\n",
       "\n",
       "    .dataframe tbody tr th {\n",
       "        vertical-align: top;\n",
       "    }\n",
       "\n",
       "    .dataframe thead th {\n",
       "        text-align: right;\n",
       "    }\n",
       "</style>\n",
       "<table border=\"1\" class=\"dataframe\">\n",
       "  <thead>\n",
       "    <tr style=\"text-align: right;\">\n",
       "      <th></th>\n",
       "      <th>market_open</th>\n",
       "      <th>market_close</th>\n",
       "    </tr>\n",
       "  </thead>\n",
       "  <tbody>\n",
       "    <tr>\n",
       "      <th>2015-12-21</th>\n",
       "      <td>2015-12-21 14:30:00+00:00</td>\n",
       "      <td>2015-12-21 16:30:00+00:00</td>\n",
       "    </tr>\n",
       "    <tr>\n",
       "      <th>2015-12-22</th>\n",
       "      <td>2015-12-22 14:30:00+00:00</td>\n",
       "      <td>2015-12-22 16:30:00+00:00</td>\n",
       "    </tr>\n",
       "    <tr>\n",
       "      <th>2015-12-23</th>\n",
       "      <td>2015-12-23 14:30:00+00:00</td>\n",
       "      <td>2015-12-23 16:30:00+00:00</td>\n",
       "    </tr>\n",
       "    <tr>\n",
       "      <th>2015-12-24</th>\n",
       "      <td>2015-12-24 14:30:00+00:00</td>\n",
       "      <td>2015-12-24 12:30:00+00:00</td>\n",
       "    </tr>\n",
       "    <tr>\n",
       "      <th>2015-12-29</th>\n",
       "      <td>2015-12-29 14:30:00+00:00</td>\n",
       "      <td>2015-12-29 16:30:00+00:00</td>\n",
       "    </tr>\n",
       "    <tr>\n",
       "      <th>2015-12-30</th>\n",
       "      <td>2015-12-30 14:30:00+00:00</td>\n",
       "      <td>2015-12-30 16:30:00+00:00</td>\n",
       "    </tr>\n",
       "    <tr>\n",
       "      <th>2015-12-31</th>\n",
       "      <td>2015-12-31 14:30:00+00:00</td>\n",
       "      <td>2015-12-31 12:30:00+00:00</td>\n",
       "    </tr>\n",
       "    <tr>\n",
       "      <th>2016-01-04</th>\n",
       "      <td>2016-01-04 14:30:00+00:00</td>\n",
       "      <td>2016-01-04 16:30:00+00:00</td>\n",
       "    </tr>\n",
       "    <tr>\n",
       "      <th>2016-01-05</th>\n",
       "      <td>2016-01-05 14:30:00+00:00</td>\n",
       "      <td>2016-01-05 16:30:00+00:00</td>\n",
       "    </tr>\n",
       "    <tr>\n",
       "      <th>2016-01-06</th>\n",
       "      <td>2016-01-06 14:30:00+00:00</td>\n",
       "      <td>2016-01-06 16:30:00+00:00</td>\n",
       "    </tr>\n",
       "  </tbody>\n",
       "</table>\n",
       "</div>"
      ],
      "text/plain": [
       "                         market_open              market_close\n",
       "2015-12-21 2015-12-21 14:30:00+00:00 2015-12-21 16:30:00+00:00\n",
       "2015-12-22 2015-12-22 14:30:00+00:00 2015-12-22 16:30:00+00:00\n",
       "2015-12-23 2015-12-23 14:30:00+00:00 2015-12-23 16:30:00+00:00\n",
       "2015-12-24 2015-12-24 14:30:00+00:00 2015-12-24 12:30:00+00:00\n",
       "2015-12-29 2015-12-29 14:30:00+00:00 2015-12-29 16:30:00+00:00\n",
       "2015-12-30 2015-12-30 14:30:00+00:00 2015-12-30 16:30:00+00:00\n",
       "2015-12-31 2015-12-31 14:30:00+00:00 2015-12-31 12:30:00+00:00\n",
       "2016-01-04 2016-01-04 14:30:00+00:00 2016-01-04 16:30:00+00:00\n",
       "2016-01-05 2016-01-05 14:30:00+00:00 2016-01-05 16:30:00+00:00\n",
       "2016-01-06 2016-01-06 14:30:00+00:00 2016-01-06 16:30:00+00:00"
      ]
     },
     "execution_count": 17,
     "metadata": {},
     "output_type": "execute_result"
    }
   ],
   "source": [
    "mcal.merge_schedules(schedules=[schedule_nyse, schedule_lse], how='inner')"
   ]
  },
  {
   "cell_type": "markdown",
   "metadata": {},
   "source": [
    "### Outer merge\n",
    "This will return the dates and times where either the NYSE or the LSE are open"
   ]
  },
  {
   "cell_type": "code",
   "execution_count": 18,
   "metadata": {},
   "outputs": [
    {
     "data": {
      "text/html": [
       "<div>\n",
       "<style scoped>\n",
       "    .dataframe tbody tr th:only-of-type {\n",
       "        vertical-align: middle;\n",
       "    }\n",
       "\n",
       "    .dataframe tbody tr th {\n",
       "        vertical-align: top;\n",
       "    }\n",
       "\n",
       "    .dataframe thead th {\n",
       "        text-align: right;\n",
       "    }\n",
       "</style>\n",
       "<table border=\"1\" class=\"dataframe\">\n",
       "  <thead>\n",
       "    <tr style=\"text-align: right;\">\n",
       "      <th></th>\n",
       "      <th>market_open</th>\n",
       "      <th>market_close</th>\n",
       "    </tr>\n",
       "  </thead>\n",
       "  <tbody>\n",
       "    <tr>\n",
       "      <th>2015-12-21</th>\n",
       "      <td>2015-12-21 08:00:00+00:00</td>\n",
       "      <td>2015-12-21 21:00:00+00:00</td>\n",
       "    </tr>\n",
       "    <tr>\n",
       "      <th>2015-12-22</th>\n",
       "      <td>2015-12-22 08:00:00+00:00</td>\n",
       "      <td>2015-12-22 21:00:00+00:00</td>\n",
       "    </tr>\n",
       "    <tr>\n",
       "      <th>2015-12-23</th>\n",
       "      <td>2015-12-23 08:00:00+00:00</td>\n",
       "      <td>2015-12-23 21:00:00+00:00</td>\n",
       "    </tr>\n",
       "    <tr>\n",
       "      <th>2015-12-24</th>\n",
       "      <td>2015-12-24 08:00:00+00:00</td>\n",
       "      <td>2015-12-24 18:00:00+00:00</td>\n",
       "    </tr>\n",
       "    <tr>\n",
       "      <th>2015-12-28</th>\n",
       "      <td>2015-12-28 14:30:00+00:00</td>\n",
       "      <td>2015-12-28 21:00:00+00:00</td>\n",
       "    </tr>\n",
       "    <tr>\n",
       "      <th>2015-12-29</th>\n",
       "      <td>2015-12-29 08:00:00+00:00</td>\n",
       "      <td>2015-12-29 21:00:00+00:00</td>\n",
       "    </tr>\n",
       "    <tr>\n",
       "      <th>2015-12-30</th>\n",
       "      <td>2015-12-30 08:00:00+00:00</td>\n",
       "      <td>2015-12-30 21:00:00+00:00</td>\n",
       "    </tr>\n",
       "    <tr>\n",
       "      <th>2015-12-31</th>\n",
       "      <td>2015-12-31 08:00:00+00:00</td>\n",
       "      <td>2015-12-31 21:00:00+00:00</td>\n",
       "    </tr>\n",
       "    <tr>\n",
       "      <th>2016-01-04</th>\n",
       "      <td>2016-01-04 08:00:00+00:00</td>\n",
       "      <td>2016-01-04 21:00:00+00:00</td>\n",
       "    </tr>\n",
       "    <tr>\n",
       "      <th>2016-01-05</th>\n",
       "      <td>2016-01-05 08:00:00+00:00</td>\n",
       "      <td>2016-01-05 21:00:00+00:00</td>\n",
       "    </tr>\n",
       "    <tr>\n",
       "      <th>2016-01-06</th>\n",
       "      <td>2016-01-06 08:00:00+00:00</td>\n",
       "      <td>2016-01-06 21:00:00+00:00</td>\n",
       "    </tr>\n",
       "  </tbody>\n",
       "</table>\n",
       "</div>"
      ],
      "text/plain": [
       "                         market_open              market_close\n",
       "2015-12-21 2015-12-21 08:00:00+00:00 2015-12-21 21:00:00+00:00\n",
       "2015-12-22 2015-12-22 08:00:00+00:00 2015-12-22 21:00:00+00:00\n",
       "2015-12-23 2015-12-23 08:00:00+00:00 2015-12-23 21:00:00+00:00\n",
       "2015-12-24 2015-12-24 08:00:00+00:00 2015-12-24 18:00:00+00:00\n",
       "2015-12-28 2015-12-28 14:30:00+00:00 2015-12-28 21:00:00+00:00\n",
       "2015-12-29 2015-12-29 08:00:00+00:00 2015-12-29 21:00:00+00:00\n",
       "2015-12-30 2015-12-30 08:00:00+00:00 2015-12-30 21:00:00+00:00\n",
       "2015-12-31 2015-12-31 08:00:00+00:00 2015-12-31 21:00:00+00:00\n",
       "2016-01-04 2016-01-04 08:00:00+00:00 2016-01-04 21:00:00+00:00\n",
       "2016-01-05 2016-01-05 08:00:00+00:00 2016-01-05 21:00:00+00:00\n",
       "2016-01-06 2016-01-06 08:00:00+00:00 2016-01-06 21:00:00+00:00"
      ]
     },
     "execution_count": 18,
     "metadata": {},
     "output_type": "execute_result"
    }
   ],
   "source": [
    "mcal.merge_schedules(schedules=[schedule_nyse, schedule_lse], how='outer')"
   ]
  },
  {
   "cell_type": "markdown",
   "metadata": {
    "collapsed": true
   },
   "source": [
    "## Use holidays in numpy"
   ]
  },
  {
   "cell_type": "markdown",
   "metadata": {},
   "source": [
    "This will use your exchange calendar in numpy to add business days"
   ]
  },
  {
   "cell_type": "code",
   "execution_count": 19,
   "metadata": {},
   "outputs": [
    {
     "data": {
      "text/plain": [
       "numpy.datetime64('2020-05-25')"
      ]
     },
     "execution_count": 19,
     "metadata": {},
     "output_type": "execute_result"
    }
   ],
   "source": [
    "import numpy as np\n",
    "cme = mcal.get_calendar(\"CME\")\n",
    "np.busday_offset(dates=\"2020-05-22\", holidays=cme.holidays().holidays, offsets=1)"
   ]
  },
  {
   "cell_type": "markdown",
   "metadata": {},
   "source": [
    "## Trading Breaks"
   ]
  },
  {
   "cell_type": "markdown",
   "metadata": {},
   "source": [
    "Some markets have breaks in the day, like the CME Equity Futures markets which are closed from 4:15 - 4:35 (NY) daily. These calendars will have additional columns in the schedule() DataFrame\n"
   ]
  },
  {
   "cell_type": "code",
   "execution_count": 27,
   "metadata": {},
   "outputs": [
    {
     "data": {
      "text/html": [
       "<div>\n",
       "<style scoped>\n",
       "    .dataframe tbody tr th:only-of-type {\n",
       "        vertical-align: middle;\n",
       "    }\n",
       "\n",
       "    .dataframe tbody tr th {\n",
       "        vertical-align: top;\n",
       "    }\n",
       "\n",
       "    .dataframe thead th {\n",
       "        text-align: right;\n",
       "    }\n",
       "</style>\n",
       "<table border=\"1\" class=\"dataframe\">\n",
       "  <thead>\n",
       "    <tr style=\"text-align: right;\">\n",
       "      <th></th>\n",
       "      <th>market_open</th>\n",
       "      <th>market_close</th>\n",
       "      <th>break_start</th>\n",
       "      <th>break_end</th>\n",
       "    </tr>\n",
       "  </thead>\n",
       "  <tbody>\n",
       "    <tr>\n",
       "      <th>2020-01-02</th>\n",
       "      <td>2020-01-01 23:00:00+00:00</td>\n",
       "      <td>2020-01-02 22:00:00+00:00</td>\n",
       "      <td>2020-01-02 21:15:00+00:00</td>\n",
       "      <td>2020-01-02 21:30:00+00:00</td>\n",
       "    </tr>\n",
       "    <tr>\n",
       "      <th>2020-01-03</th>\n",
       "      <td>2020-01-02 23:00:00+00:00</td>\n",
       "      <td>2020-01-03 22:00:00+00:00</td>\n",
       "      <td>2020-01-03 21:15:00+00:00</td>\n",
       "      <td>2020-01-03 21:30:00+00:00</td>\n",
       "    </tr>\n",
       "  </tbody>\n",
       "</table>\n",
       "</div>"
      ],
      "text/plain": [
       "                         market_open              market_close  \\\n",
       "2020-01-02 2020-01-01 23:00:00+00:00 2020-01-02 22:00:00+00:00   \n",
       "2020-01-03 2020-01-02 23:00:00+00:00 2020-01-03 22:00:00+00:00   \n",
       "\n",
       "                         break_start                 break_end  \n",
       "2020-01-02 2020-01-02 21:15:00+00:00 2020-01-02 21:30:00+00:00  \n",
       "2020-01-03 2020-01-03 21:15:00+00:00 2020-01-03 21:30:00+00:00  "
      ]
     },
     "execution_count": 27,
     "metadata": {},
     "output_type": "execute_result"
    }
   ],
   "source": [
    "cme = mcal.get_calendar('CME_Equity')\n",
    "schedule = cme.schedule('2020-01-01', '2020-01-04')\n",
    "schedule"
   ]
  },
  {
   "cell_type": "markdown",
   "metadata": {},
   "source": [
    "The date_range() properly accounts for the breaks"
   ]
  },
  {
   "cell_type": "code",
   "execution_count": 29,
   "metadata": {},
   "outputs": [
    {
     "data": {
      "text/plain": [
       "DatetimeIndex(['2020-01-01 23:05:00+00:00', '2020-01-01 23:10:00+00:00',\n",
       "               '2020-01-01 23:15:00+00:00', '2020-01-01 23:20:00+00:00',\n",
       "               '2020-01-01 23:25:00+00:00', '2020-01-01 23:30:00+00:00',\n",
       "               '2020-01-01 23:35:00+00:00', '2020-01-01 23:40:00+00:00',\n",
       "               '2020-01-01 23:45:00+00:00', '2020-01-01 23:50:00+00:00',\n",
       "               ...\n",
       "               '2020-01-03 21:00:00+00:00', '2020-01-03 21:05:00+00:00',\n",
       "               '2020-01-03 21:10:00+00:00', '2020-01-03 21:15:00+00:00',\n",
       "               '2020-01-03 21:35:00+00:00', '2020-01-03 21:40:00+00:00',\n",
       "               '2020-01-03 21:45:00+00:00', '2020-01-03 21:50:00+00:00',\n",
       "               '2020-01-03 21:55:00+00:00', '2020-01-03 22:00:00+00:00'],\n",
       "              dtype='datetime64[ns, UTC]', length=546, freq=None)"
      ]
     },
     "execution_count": 29,
     "metadata": {},
     "output_type": "execute_result"
    }
   ],
   "source": [
    "mcal.date_range(schedule, '5min')"
   ]
  },
  {
   "cell_type": "code",
   "execution_count": null,
   "metadata": {},
   "outputs": [],
   "source": []
  }
 ],
 "metadata": {
  "anaconda-cloud": {},
  "kernelspec": {
   "display_name": "Python 3",
   "language": "python",
   "name": "python3"
  },
  "language_info": {
   "codemirror_mode": {
    "name": "ipython",
    "version": 3
   },
   "file_extension": ".py",
   "mimetype": "text/x-python",
   "name": "python",
   "nbconvert_exporter": "python",
   "pygments_lexer": "ipython3",
   "version": "3.7.7"
  }
 },
 "nbformat": 4,
 "nbformat_minor": 1
}
